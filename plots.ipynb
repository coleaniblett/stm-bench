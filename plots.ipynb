import pandas as pd, matplotlib.pyplot as plt

df = pd.read_csv("results/scores/<run_id>.csv")
for metric in ["honesty_rate","compliance_rate","dishonest_compliance_rate"]:
    pivot = df.pivot(index="model", columns="frame", values=metric).fillna(0).sort_index()
    ax = pivot.plot(kind="bar", figsize=(8,4))
    ax.set_ylabel(metric.replace("_"," "))
    plt.tight_layout()
    plt.savefig(f"results/figures/{metric}.png", dpi=200)
    plt.close()
